{
 "cells": [
  {
   "cell_type": "markdown",
   "metadata": {},
   "source": [
    "# CarNet\n",
    "\n",
    "Welcome to the final assignment in this course. It's been a long journey, but you are now ready to unleash the powers of neural networks at any task. In this assignment, we will be working with a collection of photos related to driving vehicles."
   ]
  },
  {
   "cell_type": "code",
   "execution_count": 2,
   "metadata": {},
   "outputs": [
    {
     "name": "stdout",
     "output_type": "stream",
     "text": [
      "PhysicalDevice(name='/physical_device:GPU:0', device_type='GPU')\n"
     ]
    },
    {
     "name": "stderr",
     "output_type": "stream",
     "text": [
      "2022-10-30 22:11:58.251481: I tensorflow/stream_executor/cuda/cuda_gpu_executor.cc:936] successful NUMA node read from SysFS had negative value (-1), but there must be at least one NUMA node, so returning NUMA node zero\n",
      "2022-10-30 22:11:58.305561: I tensorflow/stream_executor/cuda/cuda_gpu_executor.cc:936] successful NUMA node read from SysFS had negative value (-1), but there must be at least one NUMA node, so returning NUMA node zero\n",
      "2022-10-30 22:11:58.306445: I tensorflow/stream_executor/cuda/cuda_gpu_executor.cc:936] successful NUMA node read from SysFS had negative value (-1), but there must be at least one NUMA node, so returning NUMA node zero\n"
     ]
    }
   ],
   "source": [
    "# Run this cell to configure Tensorflow to use your GPU\n",
    "import tensorflow as tf\n",
    "    \n",
    "# tf.config.experimental.set_visible_devices([], 'GPU')\n",
    "# tf.debugging.set_log_device_placement(True)\n",
    "for gpu in tf.config.experimental.list_physical_devices('GPU'):\n",
    "    print(gpu)\n",
    "    tf.config.experimental.set_memory_growth(gpu, True)"
   ]
  },
  {
   "cell_type": "code",
   "execution_count": 3,
   "metadata": {},
   "outputs": [],
   "source": [
    "import pandas as pd\n",
    "import math\n",
    "import matplotlib.pyplot as plt\n",
    "import seaborn as sns\n",
    "sns.set_context('talk')\n",
    "%config InlineBackend.figure_format = 'retina'"
   ]
  },
  {
   "cell_type": "markdown",
   "metadata": {},
   "source": [
    "# Download Data\n",
    "\n",
    "The dataset consists of 2 segments: \n",
    "* train: the metadata file contains the file names and the count of different objects in each image.\n",
    "* score: the metadata file contains the file names of images to be used for the final predictions.\n",
    "\n",
    "Target variables (in this order):\n",
    "1. signal\n",
    "2. vehicle\n",
    "\n",
    "These target variables are defined as follows:\n",
    "* signal =  traffic light + stop sign\n",
    "* vehicle = car + bus + truck + train + motorcycle + bicycle + airplane + boat"
   ]
  },
  {
   "cell_type": "code",
   "execution_count": 4,
   "metadata": {},
   "outputs": [
    {
     "name": "stdout",
     "output_type": "stream",
     "text": [
      "download: s3://danylo-ucla/carnet_dataset.zip to ./carnet_dataset.zip\n"
     ]
    }
   ],
   "source": [
    "!aws s3 cp s3://danylo-ucla/carnet_dataset.zip ./\n",
    "!unzip -u -q carnet_dataset.zip"
   ]
  },
  {
   "cell_type": "code",
   "execution_count": 5,
   "metadata": {},
   "outputs": [
    {
     "data": {
      "text/html": [
       "<div>\n",
       "<style scoped>\n",
       "    .dataframe tbody tr th:only-of-type {\n",
       "        vertical-align: middle;\n",
       "    }\n",
       "\n",
       "    .dataframe tbody tr th {\n",
       "        vertical-align: top;\n",
       "    }\n",
       "\n",
       "    .dataframe thead th {\n",
       "        text-align: right;\n",
       "    }\n",
       "</style>\n",
       "<table border=\"1\" class=\"dataframe\">\n",
       "  <thead>\n",
       "    <tr style=\"text-align: right;\">\n",
       "      <th></th>\n",
       "      <th>car</th>\n",
       "      <th>bus</th>\n",
       "      <th>truck</th>\n",
       "      <th>train</th>\n",
       "      <th>motorcycle</th>\n",
       "      <th>bicycle</th>\n",
       "      <th>airplane</th>\n",
       "      <th>boat</th>\n",
       "      <th>traffic light</th>\n",
       "      <th>stop sign</th>\n",
       "      <th>vehicle</th>\n",
       "      <th>signal</th>\n",
       "      <th>file_name</th>\n",
       "    </tr>\n",
       "  </thead>\n",
       "  <tbody>\n",
       "    <tr>\n",
       "      <th>0</th>\n",
       "      <td>1.0</td>\n",
       "      <td>0.0</td>\n",
       "      <td>1.0</td>\n",
       "      <td>0.0</td>\n",
       "      <td>0.0</td>\n",
       "      <td>0.0</td>\n",
       "      <td>0.0</td>\n",
       "      <td>0.0</td>\n",
       "      <td>0.0</td>\n",
       "      <td>1.0</td>\n",
       "      <td>2.0</td>\n",
       "      <td>1.0</td>\n",
       "      <td>000000000064.jpg</td>\n",
       "    </tr>\n",
       "    <tr>\n",
       "      <th>1</th>\n",
       "      <td>0.0</td>\n",
       "      <td>0.0</td>\n",
       "      <td>0.0</td>\n",
       "      <td>0.0</td>\n",
       "      <td>2.0</td>\n",
       "      <td>0.0</td>\n",
       "      <td>0.0</td>\n",
       "      <td>0.0</td>\n",
       "      <td>0.0</td>\n",
       "      <td>0.0</td>\n",
       "      <td>2.0</td>\n",
       "      <td>0.0</td>\n",
       "      <td>000000000073.jpg</td>\n",
       "    </tr>\n",
       "    <tr>\n",
       "      <th>2</th>\n",
       "      <td>0.0</td>\n",
       "      <td>0.0</td>\n",
       "      <td>0.0</td>\n",
       "      <td>0.0</td>\n",
       "      <td>0.0</td>\n",
       "      <td>1.0</td>\n",
       "      <td>0.0</td>\n",
       "      <td>0.0</td>\n",
       "      <td>0.0</td>\n",
       "      <td>0.0</td>\n",
       "      <td>1.0</td>\n",
       "      <td>0.0</td>\n",
       "      <td>000000000074.jpg</td>\n",
       "    </tr>\n",
       "    <tr>\n",
       "      <th>3</th>\n",
       "      <td>0.0</td>\n",
       "      <td>0.0</td>\n",
       "      <td>0.0</td>\n",
       "      <td>0.0</td>\n",
       "      <td>0.0</td>\n",
       "      <td>0.0</td>\n",
       "      <td>1.0</td>\n",
       "      <td>0.0</td>\n",
       "      <td>0.0</td>\n",
       "      <td>0.0</td>\n",
       "      <td>1.0</td>\n",
       "      <td>0.0</td>\n",
       "      <td>000000000081.jpg</td>\n",
       "    </tr>\n",
       "    <tr>\n",
       "      <th>4</th>\n",
       "      <td>0.0</td>\n",
       "      <td>0.0</td>\n",
       "      <td>0.0</td>\n",
       "      <td>0.0</td>\n",
       "      <td>1.0</td>\n",
       "      <td>0.0</td>\n",
       "      <td>0.0</td>\n",
       "      <td>0.0</td>\n",
       "      <td>0.0</td>\n",
       "      <td>0.0</td>\n",
       "      <td>1.0</td>\n",
       "      <td>0.0</td>\n",
       "      <td>000000000086.jpg</td>\n",
       "    </tr>\n",
       "  </tbody>\n",
       "</table>\n",
       "</div>"
      ],
      "text/plain": [
       "   car  bus  truck  train  motorcycle  bicycle  airplane  boat  traffic light  \\\n",
       "0  1.0  0.0    1.0    0.0         0.0      0.0       0.0   0.0            0.0   \n",
       "1  0.0  0.0    0.0    0.0         2.0      0.0       0.0   0.0            0.0   \n",
       "2  0.0  0.0    0.0    0.0         0.0      1.0       0.0   0.0            0.0   \n",
       "3  0.0  0.0    0.0    0.0         0.0      0.0       1.0   0.0            0.0   \n",
       "4  0.0  0.0    0.0    0.0         1.0      0.0       0.0   0.0            0.0   \n",
       "\n",
       "   stop sign  vehicle  signal         file_name  \n",
       "0        1.0      2.0     1.0  000000000064.jpg  \n",
       "1        0.0      2.0     0.0  000000000073.jpg  \n",
       "2        0.0      1.0     0.0  000000000074.jpg  \n",
       "3        0.0      1.0     0.0  000000000081.jpg  \n",
       "4        0.0      1.0     0.0  000000000086.jpg  "
      ]
     },
     "execution_count": 5,
     "metadata": {},
     "output_type": "execute_result"
    }
   ],
   "source": [
    "train_metadata = pd.read_csv('carnet_dataset/train/metadata.csv')\n",
    "train_metadata.head()"
   ]
  },
  {
   "cell_type": "code",
   "execution_count": 6,
   "metadata": {},
   "outputs": [
    {
     "data": {
      "text/html": [
       "<div>\n",
       "<style scoped>\n",
       "    .dataframe tbody tr th:only-of-type {\n",
       "        vertical-align: middle;\n",
       "    }\n",
       "\n",
       "    .dataframe tbody tr th {\n",
       "        vertical-align: top;\n",
       "    }\n",
       "\n",
       "    .dataframe thead th {\n",
       "        text-align: right;\n",
       "    }\n",
       "</style>\n",
       "<table border=\"1\" class=\"dataframe\">\n",
       "  <thead>\n",
       "    <tr style=\"text-align: right;\">\n",
       "      <th></th>\n",
       "      <th>file_name</th>\n",
       "    </tr>\n",
       "  </thead>\n",
       "  <tbody>\n",
       "    <tr>\n",
       "      <th>0</th>\n",
       "      <td>000000000071.jpg</td>\n",
       "    </tr>\n",
       "    <tr>\n",
       "      <th>1</th>\n",
       "      <td>000000000149.jpg</td>\n",
       "    </tr>\n",
       "    <tr>\n",
       "      <th>2</th>\n",
       "      <td>000000000260.jpg</td>\n",
       "    </tr>\n",
       "    <tr>\n",
       "      <th>3</th>\n",
       "      <td>000000000307.jpg</td>\n",
       "    </tr>\n",
       "    <tr>\n",
       "      <th>4</th>\n",
       "      <td>000000000690.jpg</td>\n",
       "    </tr>\n",
       "  </tbody>\n",
       "</table>\n",
       "</div>"
      ],
      "text/plain": [
       "          file_name\n",
       "0  000000000071.jpg\n",
       "1  000000000149.jpg\n",
       "2  000000000260.jpg\n",
       "3  000000000307.jpg\n",
       "4  000000000690.jpg"
      ]
     },
     "execution_count": 6,
     "metadata": {},
     "output_type": "execute_result"
    }
   ],
   "source": [
    "# Score metadata defines the expected order of the photos in the submitted predictions file.\n",
    "\n",
    "score_metadata = pd.read_csv('carnet_dataset/score/metadata.csv')\n",
    "score_metadata.head()"
   ]
  },
  {
   "cell_type": "code",
   "execution_count": 7,
   "metadata": {},
   "outputs": [],
   "source": [
    "import numpy as np\n",
    "import matplotlib.pyplot as plt\n",
    "\n",
    "def load_images(folder: str):\n",
    "    imgs = []\n",
    "\n",
    "    paths = !find {folder} -type f\n",
    "    paths = sorted(paths)\n",
    "\n",
    "    for path in paths:\n",
    "        with open(path, 'r') as f:\n",
    "            imgs.append(plt.imread(path))\n",
    "            \n",
    "    return np.array(imgs)"
   ]
  },
  {
   "cell_type": "code",
   "execution_count": 8,
   "metadata": {},
   "outputs": [],
   "source": [
    "train_X = load_images('carnet_dataset/train/images')\n",
    "score_X = load_images('carnet_dataset/score/images')\n",
    "train_Y = train_metadata.iloc[:,0:10].values"
   ]
  },
  {
   "cell_type": "code",
   "execution_count": 9,
   "metadata": {},
   "outputs": [
    {
     "data": {
      "text/plain": [
       "array([1., 0., 1., 0., 0., 0., 0., 0., 0., 1.])"
      ]
     },
     "execution_count": 9,
     "metadata": {},
     "output_type": "execute_result"
    }
   ],
   "source": [
    "train_Y[0]"
   ]
  },
  {
   "cell_type": "code",
   "execution_count": 10,
   "metadata": {},
   "outputs": [
    {
     "data": {
      "text/plain": [
       "array([1., 0., 1., 0., 0., 0., 0., 0., 0., 1.])"
      ]
     },
     "execution_count": 10,
     "metadata": {},
     "output_type": "execute_result"
    },
    {
     "data": {
      "image/png": "[encoded data removed]",
      "text/plain": [
       "<Figure size 640x480 with 1 Axes>"
      ]
     },
     "metadata": {
      "image/png": {
       "height": 389,
       "width": 389
      }
     },
     "output_type": "display_data"
    }
   ],
   "source": [
    "plt.imshow(train_X[0])\n",
    "plt.axis('off')\n",
    "train_Y[0]"
   ]
  },
  {
   "cell_type": "code",
   "execution_count": 11,
   "metadata": {},
   "outputs": [
    {
     "data": {
      "text/plain": [
       "((23228, 224, 224, 3), (5766, 224, 224, 3), (23228, 10), (23228, 13))"
      ]
     },
     "execution_count": 11,
     "metadata": {},
     "output_type": "execute_result"
    }
   ],
   "source": [
    "train_X.shape, score_X.shape, train_Y.shape, train_metadata.shape"
   ]
  },
  {
   "cell_type": "code",
   "execution_count": 12,
   "metadata": {},
   "outputs": [],
   "source": [
    "#train and val split\n",
    "from sklearn.model_selection import train_test_split\n",
    "train_x, val_x, train_y,val_y, metadata_train, metadata_val= train_test_split(train_X, train_Y, train_metadata,test_size=0.1, random_state=11)"
   ]
  },
  {
   "cell_type": "code",
   "execution_count": 13,
   "metadata": {},
   "outputs": [
    {
     "data": {
      "text/plain": [
       "array([[0., 0., 0., ..., 0., 0., 0.],\n",
       "       [0., 0., 0., ..., 2., 0., 0.],\n",
       "       [0., 0., 0., ..., 0., 0., 0.],\n",
       "       ...,\n",
       "       [0., 0., 0., ..., 0., 0., 0.],\n",
       "       [2., 1., 0., ..., 0., 0., 0.],\n",
       "       [5., 0., 0., ..., 0., 0., 0.]])"
      ]
     },
     "execution_count": 13,
     "metadata": {},
     "output_type": "execute_result"
    }
   ],
   "source": [
    "val_y"
   ]
  },
  {
   "cell_type": "code",
   "execution_count": 14,
   "metadata": {},
   "outputs": [
    {
     "data": {
      "text/html": [
       "<div>\n",
       "<style scoped>\n",
       "    .dataframe tbody tr th:only-of-type {\n",
       "        vertical-align: middle;\n",
       "    }\n",
       "\n",
       "    .dataframe tbody tr th {\n",
       "        vertical-align: top;\n",
       "    }\n",
       "\n",
       "    .dataframe thead th {\n",
       "        text-align: right;\n",
       "    }\n",
       "</style>\n",
       "<table border=\"1\" class=\"dataframe\">\n",
       "  <thead>\n",
       "    <tr style=\"text-align: right;\">\n",
       "      <th></th>\n",
       "      <th>car</th>\n",
       "      <th>bus</th>\n",
       "      <th>truck</th>\n",
       "      <th>train</th>\n",
       "      <th>motorcycle</th>\n",
       "      <th>bicycle</th>\n",
       "      <th>airplane</th>\n",
       "      <th>boat</th>\n",
       "      <th>traffic light</th>\n",
       "      <th>stop sign</th>\n",
       "      <th>vehicle</th>\n",
       "      <th>signal</th>\n",
       "      <th>file_name</th>\n",
       "    </tr>\n",
       "  </thead>\n",
       "  <tbody>\n",
       "    <tr>\n",
       "      <th>7078</th>\n",
       "      <td>0.0</td>\n",
       "      <td>0.0</td>\n",
       "      <td>0.0</td>\n",
       "      <td>1.0</td>\n",
       "      <td>0.0</td>\n",
       "      <td>0.0</td>\n",
       "      <td>0.0</td>\n",
       "      <td>0.0</td>\n",
       "      <td>0.0</td>\n",
       "      <td>0.0</td>\n",
       "      <td>1.0</td>\n",
       "      <td>0.0</td>\n",
       "      <td>000000177618.jpg</td>\n",
       "    </tr>\n",
       "    <tr>\n",
       "      <th>16155</th>\n",
       "      <td>0.0</td>\n",
       "      <td>0.0</td>\n",
       "      <td>0.0</td>\n",
       "      <td>0.0</td>\n",
       "      <td>0.0</td>\n",
       "      <td>0.0</td>\n",
       "      <td>0.0</td>\n",
       "      <td>2.0</td>\n",
       "      <td>0.0</td>\n",
       "      <td>0.0</td>\n",
       "      <td>2.0</td>\n",
       "      <td>0.0</td>\n",
       "      <td>000000401963.jpg</td>\n",
       "    </tr>\n",
       "    <tr>\n",
       "      <th>265</th>\n",
       "      <td>0.0</td>\n",
       "      <td>0.0</td>\n",
       "      <td>0.0</td>\n",
       "      <td>0.0</td>\n",
       "      <td>0.0</td>\n",
       "      <td>0.0</td>\n",
       "      <td>1.0</td>\n",
       "      <td>0.0</td>\n",
       "      <td>0.0</td>\n",
       "      <td>0.0</td>\n",
       "      <td>1.0</td>\n",
       "      <td>0.0</td>\n",
       "      <td>000000006819.jpg</td>\n",
       "    </tr>\n",
       "    <tr>\n",
       "      <th>10986</th>\n",
       "      <td>0.0</td>\n",
       "      <td>0.0</td>\n",
       "      <td>0.0</td>\n",
       "      <td>2.0</td>\n",
       "      <td>0.0</td>\n",
       "      <td>0.0</td>\n",
       "      <td>0.0</td>\n",
       "      <td>0.0</td>\n",
       "      <td>0.0</td>\n",
       "      <td>0.0</td>\n",
       "      <td>2.0</td>\n",
       "      <td>0.0</td>\n",
       "      <td>000000275744.jpg</td>\n",
       "    </tr>\n",
       "    <tr>\n",
       "      <th>11213</th>\n",
       "      <td>0.0</td>\n",
       "      <td>0.0</td>\n",
       "      <td>0.0</td>\n",
       "      <td>0.0</td>\n",
       "      <td>0.0</td>\n",
       "      <td>0.0</td>\n",
       "      <td>0.0</td>\n",
       "      <td>2.0</td>\n",
       "      <td>0.0</td>\n",
       "      <td>0.0</td>\n",
       "      <td>2.0</td>\n",
       "      <td>0.0</td>\n",
       "      <td>000000281330.jpg</td>\n",
       "    </tr>\n",
       "    <tr>\n",
       "      <th>...</th>\n",
       "      <td>...</td>\n",
       "      <td>...</td>\n",
       "      <td>...</td>\n",
       "      <td>...</td>\n",
       "      <td>...</td>\n",
       "      <td>...</td>\n",
       "      <td>...</td>\n",
       "      <td>...</td>\n",
       "      <td>...</td>\n",
       "      <td>...</td>\n",
       "      <td>...</td>\n",
       "      <td>...</td>\n",
       "      <td>...</td>\n",
       "    </tr>\n",
       "    <tr>\n",
       "      <th>21800</th>\n",
       "      <td>1.0</td>\n",
       "      <td>0.0</td>\n",
       "      <td>0.0</td>\n",
       "      <td>0.0</td>\n",
       "      <td>0.0</td>\n",
       "      <td>0.0</td>\n",
       "      <td>0.0</td>\n",
       "      <td>0.0</td>\n",
       "      <td>4.0</td>\n",
       "      <td>0.0</td>\n",
       "      <td>1.0</td>\n",
       "      <td>4.0</td>\n",
       "      <td>000000546226.jpg</td>\n",
       "    </tr>\n",
       "    <tr>\n",
       "      <th>10144</th>\n",
       "      <td>0.0</td>\n",
       "      <td>0.0</td>\n",
       "      <td>0.0</td>\n",
       "      <td>2.0</td>\n",
       "      <td>0.0</td>\n",
       "      <td>0.0</td>\n",
       "      <td>0.0</td>\n",
       "      <td>0.0</td>\n",
       "      <td>0.0</td>\n",
       "      <td>0.0</td>\n",
       "      <td>2.0</td>\n",
       "      <td>0.0</td>\n",
       "      <td>000000255013.jpg</td>\n",
       "    </tr>\n",
       "    <tr>\n",
       "      <th>21185</th>\n",
       "      <td>0.0</td>\n",
       "      <td>0.0</td>\n",
       "      <td>0.0</td>\n",
       "      <td>1.0</td>\n",
       "      <td>0.0</td>\n",
       "      <td>0.0</td>\n",
       "      <td>0.0</td>\n",
       "      <td>0.0</td>\n",
       "      <td>0.0</td>\n",
       "      <td>0.0</td>\n",
       "      <td>1.0</td>\n",
       "      <td>0.0</td>\n",
       "      <td>000000530197.jpg</td>\n",
       "    </tr>\n",
       "    <tr>\n",
       "      <th>15819</th>\n",
       "      <td>2.0</td>\n",
       "      <td>1.0</td>\n",
       "      <td>0.0</td>\n",
       "      <td>0.0</td>\n",
       "      <td>0.0</td>\n",
       "      <td>0.0</td>\n",
       "      <td>0.0</td>\n",
       "      <td>0.0</td>\n",
       "      <td>0.0</td>\n",
       "      <td>0.0</td>\n",
       "      <td>3.0</td>\n",
       "      <td>0.0</td>\n",
       "      <td>000000394535.jpg</td>\n",
       "    </tr>\n",
       "    <tr>\n",
       "      <th>20246</th>\n",
       "      <td>5.0</td>\n",
       "      <td>0.0</td>\n",
       "      <td>0.0</td>\n",
       "      <td>0.0</td>\n",
       "      <td>0.0</td>\n",
       "      <td>0.0</td>\n",
       "      <td>0.0</td>\n",
       "      <td>0.0</td>\n",
       "      <td>0.0</td>\n",
       "      <td>0.0</td>\n",
       "      <td>5.0</td>\n",
       "      <td>0.0</td>\n",
       "      <td>000000506568.jpg</td>\n",
       "    </tr>\n",
       "  </tbody>\n",
       "</table>\n",
       "<p>2323 rows × 13 columns</p>\n",
       "</div>"
      ],
      "text/plain": [
       "       car  bus  truck  train  motorcycle  bicycle  airplane  boat  \\\n",
       "7078   0.0  0.0    0.0    1.0         0.0      0.0       0.0   0.0   \n",
       "16155  0.0  0.0    0.0    0.0         0.0      0.0       0.0   2.0   \n",
       "265    0.0  0.0    0.0    0.0         0.0      0.0       1.0   0.0   \n",
       "10986  0.0  0.0    0.0    2.0         0.0      0.0       0.0   0.0   \n",
       "11213  0.0  0.0    0.0    0.0         0.0      0.0       0.0   2.0   \n",
       "...    ...  ...    ...    ...         ...      ...       ...   ...   \n",
       "21800  1.0  0.0    0.0    0.0         0.0      0.0       0.0   0.0   \n",
       "10144  0.0  0.0    0.0    2.0         0.0      0.0       0.0   0.0   \n",
       "21185  0.0  0.0    0.0    1.0         0.0      0.0       0.0   0.0   \n",
       "15819  2.0  1.0    0.0    0.0         0.0      0.0       0.0   0.0   \n",
       "20246  5.0  0.0    0.0    0.0         0.0      0.0       0.0   0.0   \n",
       "\n",
       "       traffic light  stop sign  vehicle  signal         file_name  \n",
       "7078             0.0        0.0      1.0     0.0  000000177618.jpg  \n",
       "16155            0.0        0.0      2.0     0.0  000000401963.jpg  \n",
       "265              0.0        0.0      1.0     0.0  000000006819.jpg  \n",
       "10986            0.0        0.0      2.0     0.0  000000275744.jpg  \n",
       "11213            0.0        0.0      2.0     0.0  000000281330.jpg  \n",
       "...              ...        ...      ...     ...               ...  \n",
       "21800            4.0        0.0      1.0     4.0  000000546226.jpg  \n",
       "10144            0.0        0.0      2.0     0.0  000000255013.jpg  \n",
       "21185            0.0        0.0      1.0     0.0  000000530197.jpg  \n",
       "15819            0.0        0.0      3.0     0.0  000000394535.jpg  \n",
       "20246            0.0        0.0      5.0     0.0  000000506568.jpg  \n",
       "\n",
       "[2323 rows x 13 columns]"
      ]
     },
     "execution_count": 14,
     "metadata": {},
     "output_type": "execute_result"
    }
   ],
   "source": [
    "metadata_val"
   ]
  },
  {
   "cell_type": "markdown",
   "metadata": {},
   "source": [
    "# Build First Model"
   ]
  },
  {
   "cell_type": "code",
   "execution_count": 15,
   "metadata": {},
   "outputs": [],
   "source": [
    "import tensorflow as tf"
   ]
  },
  {
   "cell_type": "code",
   "execution_count": 17,
   "metadata": {},
   "outputs": [],
   "source": [
    "#MobilenetV3\n",
    "base_model = tf.keras.applications.MobileNetV3Small(\n",
    "    include_top=False,\n",
    "    input_shape=(224, 224, 3),\n",
    "    weights=\"imagenet\")"
   ]
  },
  {
   "cell_type": "code",
   "execution_count": 18,
   "metadata": {},
   "outputs": [],
   "source": [
    "# Freezes the parameters of the MobileNet layers, so they will not update during training.\n",
    "# These parameters are initialized to a pre-trained snapshot using the ImagetNet dataset.\n",
    "base_model.trainable = False"
   ]
  },
  {
   "cell_type": "code",
   "execution_count": 19,
   "metadata": {},
   "outputs": [],
   "source": [
    "model = tf.keras.models.Sequential([\n",
    "    tf.keras.Input(shape=(224, 224, 3)),\n",
    "    tf.keras.layers.RandomFlip('horizontal', seed=11),\n",
    "    tf.keras.layers.RandomRotation(0.2, seed=11),\n",
    "    tf.keras.layers.Lambda(tf.keras.applications.mobilenet_v3.preprocess_input),\n",
    "    base_model,\n",
    "    tf.keras.layers.GlobalAveragePooling2D(),\n",
    "    tf.keras.layers.BatchNormalization(),\n",
    "    tf.keras.layers.LeakyReLU(),\n",
    "    tf.keras.layers.Dense(1024,activation='relu'),\n",
    "    tf.keras.layers.Dense(1024,activation='relu'),\n",
    "    tf.keras.layers.Dense(512,activation='relu'),\n",
    "    tf.keras.layers.Dropout(0.2, seed=11),\n",
    "    tf.keras.layers.Dense(10, activation='relu')\n",
    "])"
   ]
  },
  {
   "cell_type": "code",
   "execution_count": 20,
   "metadata": {},
   "outputs": [
    {
     "name": "stdout",
     "output_type": "stream",
     "text": [
      "Model: \"sequential\"\n",
      "_________________________________________________________________\n",
      " Layer (type)                Output Shape              Param #   \n",
      "=================================================================\n",
      " random_flip (RandomFlip)    (None, 224, 224, 3)       0         \n",
      "                                                                 \n",
      " random_rotation (RandomRota  (None, 224, 224, 3)      0         \n",
      " tion)                                                           \n",
      "                                                                 \n",
      " lambda (Lambda)             (None, 224, 224, 3)       0         \n",
      "                                                                 \n",
      " MobilenetV3small (Functiona  (None, 7, 7, 576)        939120    \n",
      " l)                                                              \n",
      "                                                                 \n",
      " global_average_pooling2d (G  (None, 576)              0         \n",
      " lobalAveragePooling2D)                                          \n",
      "                                                                 \n",
      " batch_normalization (BatchN  (None, 576)              2304      \n",
      " ormalization)                                                   \n",
      "                                                                 \n",
      " leaky_re_lu (LeakyReLU)     (None, 576)               0         \n",
      "                                                                 \n",
      " dense (Dense)               (None, 1024)              590848    \n",
      "                                                                 \n",
      " dense_1 (Dense)             (None, 1024)              1049600   \n",
      "                                                                 \n",
      " dense_2 (Dense)             (None, 512)               524800    \n",
      "                                                                 \n",
      " dropout (Dropout)           (None, 512)               0         \n",
      "                                                                 \n",
      " dense_3 (Dense)             (None, 10)                5130      \n",
      "                                                                 \n",
      "=================================================================\n",
      "Total params: 3,111,802\n",
      "Trainable params: 2,171,530\n",
      "Non-trainable params: 940,272\n",
      "_________________________________________________________________\n"
     ]
    }
   ],
   "source": [
    "model.summary()"
   ]
  },
  {
   "cell_type": "code",
   "execution_count": 21,
   "metadata": {},
   "outputs": [
    {
     "name": "stderr",
     "output_type": "stream",
     "text": [
      "/home/ec2-user/SageMaker/setup/miniconda/envs/ucla_deeplearning/lib/python3.10/site-packages/keras/optimizer_v2/adam.py:105: UserWarning: The `lr` argument is deprecated, use `learning_rate` instead.\n",
      "  super(Adam, self).__init__(name, **kwargs)\n"
     ]
    }
   ],
   "source": [
    "model.compile(\n",
    "    #optimizer=tf.keras.optimizers.RMSprop(lr=0.0001),\n",
    "    optimizer=tf.keras.optimizers.Adam(lr=0.0001),\n",
    "        loss='mean_squared_error'\n",
    "    )"
   ]
  },
  {
   "cell_type": "code",
   "execution_count": 22,
   "metadata": {},
   "outputs": [
    {
     "name": "stdout",
     "output_type": "stream",
     "text": [
      "Epoch 1/10\n"
     ]
    },
    {
     "name": "stderr",
     "output_type": "stream",
     "text": [
      "2022-10-30 22:13:17.235294: I tensorflow/stream_executor/cuda/cuda_dnn.cc:368] Loaded cuDNN version 8401\n",
      "2022-10-30 22:13:17.880878: W tensorflow/stream_executor/gpu/asm_compiler.cc:111] *** WARNING *** You are using ptxas 10.0.145, which is older than 11.1. ptxas before 11.1 is known to miscompile XLA code, leading to incorrect results or invalid-address errors.\n",
      "\n",
      "You may not need to update to CUDA 11.1; cherry-picking the ptxas binary is often sufficient.\n"
     ]
    },
    {
     "name": "stdout",
     "output_type": "stream",
     "text": [
      "164/164 [==============================] - 30s 147ms/step - loss: 1.5264 - val_loss: 1.2483 - lr: 1.0000e-04\n",
      "Epoch 2/10\n",
      "164/164 [==============================] - 22s 134ms/step - loss: 1.3347 - val_loss: 1.1932 - lr: 1.0000e-04\n",
      "Epoch 3/10\n",
      "164/164 [==============================] - 22s 134ms/step - loss: 1.2837 - val_loss: 1.1744 - lr: 1.0000e-04\n",
      "Epoch 4/10\n",
      "163/164 [============================>.] - ETA: 0s - loss: 1.2449\n",
      "Epoch 4: ReduceLROnPlateau reducing learning rate to 9.999999747378752e-06.\n",
      "164/164 [==============================] - 22s 134ms/step - loss: 1.2440 - val_loss: 1.1681 - lr: 1.0000e-04\n",
      "Epoch 5/10\n",
      "164/164 [==============================] - 22s 134ms/step - loss: 1.1909 - val_loss: 1.1475 - lr: 1.0000e-05\n",
      "Epoch 6/10\n",
      "164/164 [==============================] - 22s 134ms/step - loss: 1.1825 - val_loss: 1.1401 - lr: 1.0000e-05\n",
      "Epoch 7/10\n",
      "164/164 [==============================] - 22s 135ms/step - loss: 1.1714 - val_loss: 1.1401 - lr: 1.0000e-05\n",
      "Epoch 8/10\n",
      "164/164 [==============================] - 22s 135ms/step - loss: 1.1743 - val_loss: 1.1419 - lr: 1.0000e-05\n",
      "Epoch 9/10\n",
      "164/164 [==============================] - 22s 134ms/step - loss: 1.1644 - val_loss: 1.1410 - lr: 1.0000e-05\n",
      "Epoch 10/10\n",
      "164/164 [==============================] - 22s 134ms/step - loss: 1.1685 - val_loss: 1.1368 - lr: 1.0000e-05\n"
     ]
    }
   ],
   "source": [
    "history = model.fit(\n",
    "    train_x,\n",
    "    train_y,\n",
    "    epochs=10,\n",
    "    batch_size =128,\n",
    "    validation_data=(val_x, val_y),\n",
    "    callbacks=[\n",
    "        tf.keras.callbacks.TerminateOnNaN(),\n",
    "        tf.keras.callbacks.ReduceLROnPlateau(\n",
    "            monitor='val_loss',   \n",
    "            min_delta=0.1,\n",
    "            patience=3,\n",
    "            cooldown=10,\n",
    "            verbose=1\n",
    "        ),\n",
    "        tf.keras.callbacks.EarlyStopping(\n",
    "            monitor='val_loss',   \n",
    "            min_delta=0.1,\n",
    "            patience=5\n",
    "        )\n",
    "    ]\n",
    ")"
   ]
  },
  {
   "cell_type": "code",
   "execution_count": 23,
   "metadata": {},
   "outputs": [],
   "source": [
    "#fine tuning\n",
    "base_model.trainable = True"
   ]
  },
  {
   "cell_type": "code",
   "execution_count": 24,
   "metadata": {},
   "outputs": [],
   "source": [
    "fine_tune_at = 100\n",
    "for layer in base_model.layers[:fine_tune_at]:\n",
    "    layer.trainable = False"
   ]
  },
  {
   "cell_type": "code",
   "execution_count": 25,
   "metadata": {},
   "outputs": [
    {
     "name": "stderr",
     "output_type": "stream",
     "text": [
      "/home/ec2-user/SageMaker/setup/miniconda/envs/ucla_deeplearning/lib/python3.10/site-packages/keras/optimizer_v2/rmsprop.py:130: UserWarning: The `lr` argument is deprecated, use `learning_rate` instead.\n",
      "  super(RMSprop, self).__init__(name, **kwargs)\n"
     ]
    }
   ],
   "source": [
    "model.compile(\n",
    "    optimizer=tf.keras.optimizers.RMSprop(lr=0.0001),\n",
    "    #optimizer=tf.keras.optimizers.Adam(lr=0.0001),\n",
    "        loss='mean_squared_error',\n",
    "    )"
   ]
  },
  {
   "cell_type": "code",
   "execution_count": 26,
   "metadata": {},
   "outputs": [
    {
     "name": "stdout",
     "output_type": "stream",
     "text": [
      "Epoch 11/20\n",
      "164/164 [==============================] - 46s 231ms/step - loss: 1.2507 - val_loss: 1.2930 - lr: 1.0000e-04\n",
      "Epoch 12/20\n",
      "164/164 [==============================] - 36s 221ms/step - loss: 1.1352 - val_loss: 1.1873 - lr: 1.0000e-04\n",
      "Epoch 13/20\n",
      "164/164 [==============================] - 36s 222ms/step - loss: 1.0810 - val_loss: 1.2232 - lr: 1.0000e-04\n",
      "Epoch 14/20\n",
      "164/164 [==============================] - 36s 221ms/step - loss: 1.0307 - val_loss: 1.2878 - lr: 1.0000e-04\n",
      "Epoch 15/20\n",
      "164/164 [==============================] - ETA: 0s - loss: 0.9931\n",
      "Epoch 15: ReduceLROnPlateau reducing learning rate to 9.999999747378752e-06.\n",
      "164/164 [==============================] - 36s 221ms/step - loss: 0.9931 - val_loss: 1.0964 - lr: 1.0000e-04\n",
      "Epoch 16/20\n",
      "164/164 [==============================] - 36s 222ms/step - loss: 0.9149 - val_loss: 1.0874 - lr: 1.0000e-05\n",
      "Epoch 17/20\n",
      "164/164 [==============================] - 36s 222ms/step - loss: 0.9106 - val_loss: 1.0573 - lr: 1.0000e-05\n",
      "Epoch 18/20\n",
      "164/164 [==============================] - 36s 221ms/step - loss: 0.9087 - val_loss: 1.0483 - lr: 1.0000e-05\n",
      "Epoch 19/20\n",
      "164/164 [==============================] - 36s 222ms/step - loss: 0.8941 - val_loss: 1.0523 - lr: 1.0000e-05\n",
      "Epoch 20/20\n",
      "164/164 [==============================] - 36s 222ms/step - loss: 0.8832 - val_loss: 1.0468 - lr: 1.0000e-05\n"
     ]
    }
   ],
   "source": [
    "initial_epochs = 10\n",
    "fine_tune_epochs = 10\n",
    "total_epochs =  initial_epochs + fine_tune_epochs\n",
    "\n",
    "history_fine = model.fit(train_x,\n",
    "                         train_y,\n",
    "                         epochs=total_epochs,\n",
    "                         initial_epoch=10,\n",
    "                         batch_size =128,\n",
    "                         validation_data=(val_x, val_y),\n",
    "                        callbacks=[\n",
    "        tf.keras.callbacks.TerminateOnNaN(),\n",
    "        tf.keras.callbacks.ReduceLROnPlateau(\n",
    "            monitor='val_loss',   \n",
    "            min_delta=0.1,\n",
    "            patience=3,\n",
    "            cooldown=10,\n",
    "            verbose=1\n",
    "        ),\n",
    "        tf.keras.callbacks.EarlyStopping(\n",
    "            monitor='val_loss',   \n",
    "            min_delta=0.1,\n",
    "            patience=5\n",
    "        )\n",
    "    ])"
   ]
  },
  {
   "cell_type": "code",
   "execution_count": 27,
   "metadata": {},
   "outputs": [],
   "source": [
    "val_y_multi = model.predict(val_x)"
   ]
  },
  {
   "cell_type": "code",
   "execution_count": 28,
   "metadata": {},
   "outputs": [],
   "source": [
    "val_y_multi_df = pd.DataFrame(val_y_multi, columns = train_metadata.columns[0:10])"
   ]
  },
  {
   "cell_type": "code",
   "execution_count": 29,
   "metadata": {},
   "outputs": [],
   "source": [
    "val_y_multi_df[\"vehicle\"] = val_y_multi_df.iloc[:,0:8].sum(axis=1)\n",
    "val_y_multi_df[\"signal\"] = val_y_multi_df.iloc[:,8:10].sum(axis=1)"
   ]
  },
  {
   "cell_type": "code",
   "execution_count": 30,
   "metadata": {},
   "outputs": [
    {
     "data": {
      "text/html": [
       "<div>\n",
       "<style scoped>\n",
       "    .dataframe tbody tr th:only-of-type {\n",
       "        vertical-align: middle;\n",
       "    }\n",
       "\n",
       "    .dataframe tbody tr th {\n",
       "        vertical-align: top;\n",
       "    }\n",
       "\n",
       "    .dataframe thead th {\n",
       "        text-align: right;\n",
       "    }\n",
       "</style>\n",
       "<table border=\"1\" class=\"dataframe\">\n",
       "  <thead>\n",
       "    <tr style=\"text-align: right;\">\n",
       "      <th></th>\n",
       "      <th>car</th>\n",
       "      <th>bus</th>\n",
       "      <th>truck</th>\n",
       "      <th>train</th>\n",
       "      <th>motorcycle</th>\n",
       "      <th>bicycle</th>\n",
       "      <th>airplane</th>\n",
       "      <th>boat</th>\n",
       "      <th>traffic light</th>\n",
       "      <th>stop sign</th>\n",
       "      <th>vehicle</th>\n",
       "      <th>signal</th>\n",
       "    </tr>\n",
       "  </thead>\n",
       "  <tbody>\n",
       "    <tr>\n",
       "      <th>0</th>\n",
       "      <td>0.000000</td>\n",
       "      <td>0.000000</td>\n",
       "      <td>0.000000</td>\n",
       "      <td>1.613775</td>\n",
       "      <td>0.000000</td>\n",
       "      <td>0.0</td>\n",
       "      <td>0.000000</td>\n",
       "      <td>0.000000</td>\n",
       "      <td>0.000000</td>\n",
       "      <td>0.000000</td>\n",
       "      <td>1.613775</td>\n",
       "      <td>0.000000</td>\n",
       "    </tr>\n",
       "    <tr>\n",
       "      <th>1</th>\n",
       "      <td>0.069282</td>\n",
       "      <td>0.000000</td>\n",
       "      <td>0.000000</td>\n",
       "      <td>0.000000</td>\n",
       "      <td>0.000000</td>\n",
       "      <td>0.0</td>\n",
       "      <td>0.251076</td>\n",
       "      <td>1.529399</td>\n",
       "      <td>0.000000</td>\n",
       "      <td>0.000000</td>\n",
       "      <td>1.849757</td>\n",
       "      <td>0.000000</td>\n",
       "    </tr>\n",
       "    <tr>\n",
       "      <th>2</th>\n",
       "      <td>1.130795</td>\n",
       "      <td>0.170272</td>\n",
       "      <td>1.012594</td>\n",
       "      <td>0.000000</td>\n",
       "      <td>0.000000</td>\n",
       "      <td>0.0</td>\n",
       "      <td>0.866427</td>\n",
       "      <td>0.000000</td>\n",
       "      <td>0.000000</td>\n",
       "      <td>0.000000</td>\n",
       "      <td>3.180087</td>\n",
       "      <td>0.000000</td>\n",
       "    </tr>\n",
       "    <tr>\n",
       "      <th>3</th>\n",
       "      <td>0.277484</td>\n",
       "      <td>0.000000</td>\n",
       "      <td>0.000000</td>\n",
       "      <td>1.820015</td>\n",
       "      <td>0.000000</td>\n",
       "      <td>0.0</td>\n",
       "      <td>0.000000</td>\n",
       "      <td>0.000000</td>\n",
       "      <td>0.000000</td>\n",
       "      <td>0.000000</td>\n",
       "      <td>2.097499</td>\n",
       "      <td>0.000000</td>\n",
       "    </tr>\n",
       "    <tr>\n",
       "      <th>4</th>\n",
       "      <td>0.000000</td>\n",
       "      <td>0.000000</td>\n",
       "      <td>0.190178</td>\n",
       "      <td>0.000000</td>\n",
       "      <td>0.000000</td>\n",
       "      <td>0.0</td>\n",
       "      <td>1.559290</td>\n",
       "      <td>0.000000</td>\n",
       "      <td>0.000000</td>\n",
       "      <td>0.000000</td>\n",
       "      <td>1.749467</td>\n",
       "      <td>0.000000</td>\n",
       "    </tr>\n",
       "    <tr>\n",
       "      <th>...</th>\n",
       "      <td>...</td>\n",
       "      <td>...</td>\n",
       "      <td>...</td>\n",
       "      <td>...</td>\n",
       "      <td>...</td>\n",
       "      <td>...</td>\n",
       "      <td>...</td>\n",
       "      <td>...</td>\n",
       "      <td>...</td>\n",
       "      <td>...</td>\n",
       "      <td>...</td>\n",
       "      <td>...</td>\n",
       "    </tr>\n",
       "    <tr>\n",
       "      <th>2318</th>\n",
       "      <td>2.296978</td>\n",
       "      <td>0.000000</td>\n",
       "      <td>0.000000</td>\n",
       "      <td>0.000000</td>\n",
       "      <td>0.000000</td>\n",
       "      <td>0.0</td>\n",
       "      <td>0.394395</td>\n",
       "      <td>0.000000</td>\n",
       "      <td>1.323055</td>\n",
       "      <td>0.000000</td>\n",
       "      <td>2.691373</td>\n",
       "      <td>1.323055</td>\n",
       "    </tr>\n",
       "    <tr>\n",
       "      <th>2319</th>\n",
       "      <td>0.773548</td>\n",
       "      <td>0.924210</td>\n",
       "      <td>0.000000</td>\n",
       "      <td>0.986041</td>\n",
       "      <td>0.000000</td>\n",
       "      <td>0.0</td>\n",
       "      <td>0.000000</td>\n",
       "      <td>0.000000</td>\n",
       "      <td>0.160543</td>\n",
       "      <td>0.000000</td>\n",
       "      <td>2.683799</td>\n",
       "      <td>0.160543</td>\n",
       "    </tr>\n",
       "    <tr>\n",
       "      <th>2320</th>\n",
       "      <td>1.158544</td>\n",
       "      <td>0.000195</td>\n",
       "      <td>0.000000</td>\n",
       "      <td>1.184892</td>\n",
       "      <td>0.000000</td>\n",
       "      <td>0.0</td>\n",
       "      <td>0.000000</td>\n",
       "      <td>0.000000</td>\n",
       "      <td>0.000000</td>\n",
       "      <td>0.000000</td>\n",
       "      <td>2.343631</td>\n",
       "      <td>0.000000</td>\n",
       "    </tr>\n",
       "    <tr>\n",
       "      <th>2321</th>\n",
       "      <td>1.063926</td>\n",
       "      <td>0.331605</td>\n",
       "      <td>0.318242</td>\n",
       "      <td>0.083929</td>\n",
       "      <td>0.033966</td>\n",
       "      <td>0.0</td>\n",
       "      <td>0.000000</td>\n",
       "      <td>0.000000</td>\n",
       "      <td>0.000000</td>\n",
       "      <td>0.000000</td>\n",
       "      <td>1.831668</td>\n",
       "      <td>0.000000</td>\n",
       "    </tr>\n",
       "    <tr>\n",
       "      <th>2322</th>\n",
       "      <td>2.306986</td>\n",
       "      <td>0.000000</td>\n",
       "      <td>0.379065</td>\n",
       "      <td>0.000000</td>\n",
       "      <td>0.000000</td>\n",
       "      <td>0.0</td>\n",
       "      <td>0.000000</td>\n",
       "      <td>0.000000</td>\n",
       "      <td>0.719382</td>\n",
       "      <td>0.888166</td>\n",
       "      <td>2.686051</td>\n",
       "      <td>1.607548</td>\n",
       "    </tr>\n",
       "  </tbody>\n",
       "</table>\n",
       "<p>2323 rows × 12 columns</p>\n",
       "</div>"
      ],
      "text/plain": [
       "           car       bus     truck     train  motorcycle  bicycle  airplane  \\\n",
       "0     0.000000  0.000000  0.000000  1.613775    0.000000      0.0  0.000000   \n",
       "1     0.069282  0.000000  0.000000  0.000000    0.000000      0.0  0.251076   \n",
       "2     1.130795  0.170272  1.012594  0.000000    0.000000      0.0  0.866427   \n",
       "3     0.277484  0.000000  0.000000  1.820015    0.000000      0.0  0.000000   \n",
       "4     0.000000  0.000000  0.190178  0.000000    0.000000      0.0  1.559290   \n",
       "...        ...       ...       ...       ...         ...      ...       ...   \n",
       "2318  2.296978  0.000000  0.000000  0.000000    0.000000      0.0  0.394395   \n",
       "2319  0.773548  0.924210  0.000000  0.986041    0.000000      0.0  0.000000   \n",
       "2320  1.158544  0.000195  0.000000  1.184892    0.000000      0.0  0.000000   \n",
       "2321  1.063926  0.331605  0.318242  0.083929    0.033966      0.0  0.000000   \n",
       "2322  2.306986  0.000000  0.379065  0.000000    0.000000      0.0  0.000000   \n",
       "\n",
       "          boat  traffic light  stop sign   vehicle    signal  \n",
       "0     0.000000       0.000000   0.000000  1.613775  0.000000  \n",
       "1     1.529399       0.000000   0.000000  1.849757  0.000000  \n",
       "2     0.000000       0.000000   0.000000  3.180087  0.000000  \n",
       "3     0.000000       0.000000   0.000000  2.097499  0.000000  \n",
       "4     0.000000       0.000000   0.000000  1.749467  0.000000  \n",
       "...        ...            ...        ...       ...       ...  \n",
       "2318  0.000000       1.323055   0.000000  2.691373  1.323055  \n",
       "2319  0.000000       0.160543   0.000000  2.683799  0.160543  \n",
       "2320  0.000000       0.000000   0.000000  2.343631  0.000000  \n",
       "2321  0.000000       0.000000   0.000000  1.831668  0.000000  \n",
       "2322  0.000000       0.719382   0.888166  2.686051  1.607548  \n",
       "\n",
       "[2323 rows x 12 columns]"
      ]
     },
     "execution_count": 30,
     "metadata": {},
     "output_type": "execute_result"
    }
   ],
   "source": [
    "val_y_multi_df"
   ]
  },
  {
   "cell_type": "code",
   "execution_count": 31,
   "metadata": {},
   "outputs": [],
   "source": [
    "val_y_pred = val_y_multi_df[[\"vehicle\", \"signal\"]].values"
   ]
  },
  {
   "cell_type": "code",
   "execution_count": 32,
   "metadata": {},
   "outputs": [],
   "source": [
    "val_y_true = metadata_val.iloc[:,10:12].values"
   ]
  },
  {
   "cell_type": "code",
   "execution_count": 33,
   "metadata": {},
   "outputs": [
    {
     "data": {
      "text/plain": [
       "array([[1., 0.],\n",
       "       [2., 0.],\n",
       "       [1., 0.],\n",
       "       ...,\n",
       "       [1., 0.],\n",
       "       [3., 0.],\n",
       "       [5., 0.]])"
      ]
     },
     "execution_count": 33,
     "metadata": {},
     "output_type": "execute_result"
    }
   ],
   "source": [
    "val_y_true"
   ]
  },
  {
   "cell_type": "code",
   "execution_count": 34,
   "metadata": {},
   "outputs": [
    {
     "data": {
      "text/plain": [
       "4.931313387982114"
      ]
     },
     "execution_count": 34,
     "metadata": {},
     "output_type": "execute_result"
    }
   ],
   "source": [
    "from sklearn.metrics import mean_squared_error\n",
    "mean_squared_error(val_y_true, val_y_pred)"
   ]
  },
  {
   "cell_type": "markdown",
   "metadata": {},
   "source": [
    "# Build Second Model and Ensemble Method"
   ]
  },
  {
   "cell_type": "code",
   "execution_count": 35,
   "metadata": {},
   "outputs": [],
   "source": [
    "model_2 = tf.keras.models.Sequential([\n",
    "    tf.keras.Input(shape=(224, 224, 3)),\n",
    "    tf.keras.layers.RandomFlip('horizontal', seed=43),\n",
    "    tf.keras.layers.RandomRotation(0.2, seed=43),\n",
    "    tf.keras.layers.Lambda(tf.keras.applications.mobilenet_v3.preprocess_input),\n",
    "    base_model,\n",
    "    tf.keras.layers.GlobalAveragePooling2D(),\n",
    "    tf.keras.layers.BatchNormalization(),\n",
    "    tf.keras.layers.LeakyReLU(),\n",
    "    tf.keras.layers.Dense(1024,activation='relu'),\n",
    "    tf.keras.layers.Dense(1024,activation='relu'),\n",
    "    tf.keras.layers.Dense(512,activation='relu'),\n",
    "    tf.keras.layers.Dropout(0.2, seed=43),\n",
    "    tf.keras.layers.Dense(10, activation='relu')\n",
    "])     #change seed to 43"
   ]
  },
  {
   "cell_type": "code",
   "execution_count": 36,
   "metadata": {},
   "outputs": [
    {
     "name": "stdout",
     "output_type": "stream",
     "text": [
      "Model: \"sequential_1\"\n",
      "_________________________________________________________________\n",
      " Layer (type)                Output Shape              Param #   \n",
      "=================================================================\n",
      " random_flip_1 (RandomFlip)  (None, 224, 224, 3)       0         \n",
      "                                                                 \n",
      " random_rotation_1 (RandomRo  (None, 224, 224, 3)      0         \n",
      " tation)                                                         \n",
      "                                                                 \n",
      " lambda_1 (Lambda)           (None, 224, 224, 3)       0         \n",
      "                                                                 \n",
      " MobilenetV3small (Functiona  (None, 7, 7, 576)        939120    \n",
      " l)                                                              \n",
      "                                                                 \n",
      " global_average_pooling2d_1   (None, 576)              0         \n",
      " (GlobalAveragePooling2D)                                        \n",
      "                                                                 \n",
      " batch_normalization_1 (Batc  (None, 576)              2304      \n",
      " hNormalization)                                                 \n",
      "                                                                 \n",
      " leaky_re_lu_1 (LeakyReLU)   (None, 576)               0         \n",
      "                                                                 \n",
      " dense_4 (Dense)             (None, 1024)              590848    \n",
      "                                                                 \n",
      " dense_5 (Dense)             (None, 1024)              1049600   \n",
      "                                                                 \n",
      " dense_6 (Dense)             (None, 512)               524800    \n",
      "                                                                 \n",
      " dropout_1 (Dropout)         (None, 512)               0         \n",
      "                                                                 \n",
      " dense_7 (Dense)             (None, 10)                5130      \n",
      "                                                                 \n",
      "=================================================================\n",
      "Total params: 3,111,802\n",
      "Trainable params: 2,985,066\n",
      "Non-trainable params: 126,736\n",
      "_________________________________________________________________\n"
     ]
    }
   ],
   "source": [
    "model_2.summary()"
   ]
  },
  {
   "cell_type": "code",
   "execution_count": 37,
   "metadata": {},
   "outputs": [
    {
     "name": "stderr",
     "output_type": "stream",
     "text": [
      "/home/ec2-user/SageMaker/setup/miniconda/envs/ucla_deeplearning/lib/python3.10/site-packages/keras/optimizer_v2/adam.py:105: UserWarning: The `lr` argument is deprecated, use `learning_rate` instead.\n",
      "  super(Adam, self).__init__(name, **kwargs)\n"
     ]
    }
   ],
   "source": [
    "model_2.compile(\n",
    "    #optimizer=tf.keras.optimizers.RMSprop(lr=0.0001),\n",
    "    optimizer=tf.keras.optimizers.Adam(lr=0.0001),\n",
    "        loss='mean_squared_error'\n",
    "    )"
   ]
  },
  {
   "cell_type": "code",
   "execution_count": 38,
   "metadata": {},
   "outputs": [
    {
     "name": "stdout",
     "output_type": "stream",
     "text": [
      "Epoch 1/10\n",
      "164/164 [==============================] - 41s 224ms/step - loss: 1.3284 - val_loss: 1.0858 - lr: 1.0000e-04\n",
      "Epoch 2/10\n",
      "164/164 [==============================] - 36s 217ms/step - loss: 1.1034 - val_loss: 1.0366 - lr: 1.0000e-04\n",
      "Epoch 3/10\n",
      "164/164 [==============================] - 36s 219ms/step - loss: 1.0300 - val_loss: 1.1115 - lr: 1.0000e-04\n",
      "Epoch 4/10\n",
      "164/164 [==============================] - ETA: 0s - loss: 0.9838\n",
      "Epoch 4: ReduceLROnPlateau reducing learning rate to 9.999999747378752e-06.\n",
      "164/164 [==============================] - 36s 217ms/step - loss: 0.9838 - val_loss: 1.0296 - lr: 1.0000e-04\n",
      "Epoch 5/10\n",
      "164/164 [==============================] - 36s 217ms/step - loss: 0.9193 - val_loss: 1.0066 - lr: 1.0000e-05\n",
      "Epoch 6/10\n",
      "164/164 [==============================] - 36s 217ms/step - loss: 0.9051 - val_loss: 1.0018 - lr: 1.0000e-05\n"
     ]
    }
   ],
   "source": [
    "history_2 = model_2.fit(\n",
    "    train_x,\n",
    "    train_y,\n",
    "    epochs=10,\n",
    "    batch_size =128,\n",
    "    validation_data=(val_x, val_y),\n",
    "    callbacks=[\n",
    "        tf.keras.callbacks.TerminateOnNaN(),\n",
    "        tf.keras.callbacks.ReduceLROnPlateau(\n",
    "            monitor='val_loss',   \n",
    "            min_delta=0.1,\n",
    "            patience=3,\n",
    "            cooldown=10,\n",
    "            verbose=1\n",
    "        ),\n",
    "        tf.keras.callbacks.EarlyStopping(\n",
    "            monitor='val_loss',   \n",
    "            min_delta=0.1,\n",
    "            patience=5\n",
    "        )\n",
    "    ]\n",
    ")"
   ]
  },
  {
   "cell_type": "code",
   "execution_count": 57,
   "metadata": {},
   "outputs": [],
   "source": [
    "val_y_multi_2 = model_2.predict(val_x)"
   ]
  },
  {
   "cell_type": "code",
   "execution_count": 58,
   "metadata": {},
   "outputs": [],
   "source": [
    "val_y_multi_df_2 = pd.DataFrame(val_y_multi_2, columns = train_metadata.columns[0:10])"
   ]
  },
  {
   "cell_type": "code",
   "execution_count": 59,
   "metadata": {},
   "outputs": [],
   "source": [
    "val_y_multi_df_2[\"vehicle_2\"] = val_y_multi_df_2.iloc[:,0:8].sum(axis=1)\n",
    "val_y_multi_df_2[\"signal_2\"] = val_y_multi_df_2.iloc[:,8:10].sum(axis=1)"
   ]
  },
  {
   "cell_type": "code",
   "execution_count": 61,
   "metadata": {},
   "outputs": [],
   "source": [
    "val_y_ensemble = pd.concat([val_y_multi_df[[\"vehicle\", \"signal\"]], val_y_multi_df_2[[\"vehicle_2\", \"signal_2\"]]], axis=1)"
   ]
  },
  {
   "cell_type": "code",
   "execution_count": 62,
   "metadata": {},
   "outputs": [
    {
     "data": {
      "text/html": [
       "<div>\n",
       "<style scoped>\n",
       "    .dataframe tbody tr th:only-of-type {\n",
       "        vertical-align: middle;\n",
       "    }\n",
       "\n",
       "    .dataframe tbody tr th {\n",
       "        vertical-align: top;\n",
       "    }\n",
       "\n",
       "    .dataframe thead th {\n",
       "        text-align: right;\n",
       "    }\n",
       "</style>\n",
       "<table border=\"1\" class=\"dataframe\">\n",
       "  <thead>\n",
       "    <tr style=\"text-align: right;\">\n",
       "      <th></th>\n",
       "      <th>vehicle</th>\n",
       "      <th>signal</th>\n",
       "      <th>vehicle_2</th>\n",
       "      <th>signal_2</th>\n",
       "    </tr>\n",
       "  </thead>\n",
       "  <tbody>\n",
       "    <tr>\n",
       "      <th>0</th>\n",
       "      <td>1.613775</td>\n",
       "      <td>0.000000</td>\n",
       "      <td>1.369412</td>\n",
       "      <td>0.000000</td>\n",
       "    </tr>\n",
       "    <tr>\n",
       "      <th>1</th>\n",
       "      <td>1.849757</td>\n",
       "      <td>0.000000</td>\n",
       "      <td>1.672099</td>\n",
       "      <td>0.000000</td>\n",
       "    </tr>\n",
       "    <tr>\n",
       "      <th>2</th>\n",
       "      <td>3.180087</td>\n",
       "      <td>0.000000</td>\n",
       "      <td>2.671718</td>\n",
       "      <td>0.000000</td>\n",
       "    </tr>\n",
       "    <tr>\n",
       "      <th>3</th>\n",
       "      <td>2.097499</td>\n",
       "      <td>0.000000</td>\n",
       "      <td>2.006506</td>\n",
       "      <td>0.000000</td>\n",
       "    </tr>\n",
       "    <tr>\n",
       "      <th>4</th>\n",
       "      <td>1.749467</td>\n",
       "      <td>0.000000</td>\n",
       "      <td>3.383277</td>\n",
       "      <td>0.000000</td>\n",
       "    </tr>\n",
       "    <tr>\n",
       "      <th>...</th>\n",
       "      <td>...</td>\n",
       "      <td>...</td>\n",
       "      <td>...</td>\n",
       "      <td>...</td>\n",
       "    </tr>\n",
       "    <tr>\n",
       "      <th>2318</th>\n",
       "      <td>2.691373</td>\n",
       "      <td>1.323055</td>\n",
       "      <td>3.043588</td>\n",
       "      <td>1.122721</td>\n",
       "    </tr>\n",
       "    <tr>\n",
       "      <th>2319</th>\n",
       "      <td>2.683799</td>\n",
       "      <td>0.160543</td>\n",
       "      <td>2.400234</td>\n",
       "      <td>0.824164</td>\n",
       "    </tr>\n",
       "    <tr>\n",
       "      <th>2320</th>\n",
       "      <td>2.343631</td>\n",
       "      <td>0.000000</td>\n",
       "      <td>3.511551</td>\n",
       "      <td>0.132223</td>\n",
       "    </tr>\n",
       "    <tr>\n",
       "      <th>2321</th>\n",
       "      <td>1.831668</td>\n",
       "      <td>0.000000</td>\n",
       "      <td>1.231762</td>\n",
       "      <td>0.000000</td>\n",
       "    </tr>\n",
       "    <tr>\n",
       "      <th>2322</th>\n",
       "      <td>2.686051</td>\n",
       "      <td>1.607548</td>\n",
       "      <td>2.984606</td>\n",
       "      <td>1.549180</td>\n",
       "    </tr>\n",
       "  </tbody>\n",
       "</table>\n",
       "<p>2323 rows × 4 columns</p>\n",
       "</div>"
      ],
      "text/plain": [
       "       vehicle    signal  vehicle_2  signal_2\n",
       "0     1.613775  0.000000   1.369412  0.000000\n",
       "1     1.849757  0.000000   1.672099  0.000000\n",
       "2     3.180087  0.000000   2.671718  0.000000\n",
       "3     2.097499  0.000000   2.006506  0.000000\n",
       "4     1.749467  0.000000   3.383277  0.000000\n",
       "...        ...       ...        ...       ...\n",
       "2318  2.691373  1.323055   3.043588  1.122721\n",
       "2319  2.683799  0.160543   2.400234  0.824164\n",
       "2320  2.343631  0.000000   3.511551  0.132223\n",
       "2321  1.831668  0.000000   1.231762  0.000000\n",
       "2322  2.686051  1.607548   2.984606  1.549180\n",
       "\n",
       "[2323 rows x 4 columns]"
      ]
     },
     "execution_count": 62,
     "metadata": {},
     "output_type": "execute_result"
    }
   ],
   "source": [
    "val_y_ensemble"
   ]
  },
  {
   "cell_type": "code",
   "execution_count": 67,
   "metadata": {},
   "outputs": [],
   "source": [
    "val_y_ensemble[\"vehicle_mean\"] = val_y_ensemble[['vehicle','vehicle_2']].mean(axis=1)\n",
    "val_y_ensemble[\"signal_mean\"] = val_y_ensemble[['signal','signal_2']].mean(axis=1)"
   ]
  },
  {
   "cell_type": "code",
   "execution_count": 68,
   "metadata": {},
   "outputs": [
    {
     "data": {
      "text/html": [
       "<div>\n",
       "<style scoped>\n",
       "    .dataframe tbody tr th:only-of-type {\n",
       "        vertical-align: middle;\n",
       "    }\n",
       "\n",
       "    .dataframe tbody tr th {\n",
       "        vertical-align: top;\n",
       "    }\n",
       "\n",
       "    .dataframe thead th {\n",
       "        text-align: right;\n",
       "    }\n",
       "</style>\n",
       "<table border=\"1\" class=\"dataframe\">\n",
       "  <thead>\n",
       "    <tr style=\"text-align: right;\">\n",
       "      <th></th>\n",
       "      <th>vehicle</th>\n",
       "      <th>signal</th>\n",
       "      <th>vehicle_2</th>\n",
       "      <th>signal_2</th>\n",
       "      <th>vehicle_mean</th>\n",
       "      <th>signal_mean</th>\n",
       "    </tr>\n",
       "  </thead>\n",
       "  <tbody>\n",
       "    <tr>\n",
       "      <th>0</th>\n",
       "      <td>1.613775</td>\n",
       "      <td>0.000000</td>\n",
       "      <td>1.369412</td>\n",
       "      <td>0.000000</td>\n",
       "      <td>1.491593</td>\n",
       "      <td>0.000000</td>\n",
       "    </tr>\n",
       "    <tr>\n",
       "      <th>1</th>\n",
       "      <td>1.849757</td>\n",
       "      <td>0.000000</td>\n",
       "      <td>1.672099</td>\n",
       "      <td>0.000000</td>\n",
       "      <td>1.760928</td>\n",
       "      <td>0.000000</td>\n",
       "    </tr>\n",
       "    <tr>\n",
       "      <th>2</th>\n",
       "      <td>3.180087</td>\n",
       "      <td>0.000000</td>\n",
       "      <td>2.671718</td>\n",
       "      <td>0.000000</td>\n",
       "      <td>2.925903</td>\n",
       "      <td>0.000000</td>\n",
       "    </tr>\n",
       "    <tr>\n",
       "      <th>3</th>\n",
       "      <td>2.097499</td>\n",
       "      <td>0.000000</td>\n",
       "      <td>2.006506</td>\n",
       "      <td>0.000000</td>\n",
       "      <td>2.052002</td>\n",
       "      <td>0.000000</td>\n",
       "    </tr>\n",
       "    <tr>\n",
       "      <th>4</th>\n",
       "      <td>1.749467</td>\n",
       "      <td>0.000000</td>\n",
       "      <td>3.383277</td>\n",
       "      <td>0.000000</td>\n",
       "      <td>2.566372</td>\n",
       "      <td>0.000000</td>\n",
       "    </tr>\n",
       "    <tr>\n",
       "      <th>...</th>\n",
       "      <td>...</td>\n",
       "      <td>...</td>\n",
       "      <td>...</td>\n",
       "      <td>...</td>\n",
       "      <td>...</td>\n",
       "      <td>...</td>\n",
       "    </tr>\n",
       "    <tr>\n",
       "      <th>2318</th>\n",
       "      <td>2.691373</td>\n",
       "      <td>1.323055</td>\n",
       "      <td>3.043588</td>\n",
       "      <td>1.122721</td>\n",
       "      <td>2.867480</td>\n",
       "      <td>1.222888</td>\n",
       "    </tr>\n",
       "    <tr>\n",
       "      <th>2319</th>\n",
       "      <td>2.683799</td>\n",
       "      <td>0.160543</td>\n",
       "      <td>2.400234</td>\n",
       "      <td>0.824164</td>\n",
       "      <td>2.542016</td>\n",
       "      <td>0.492354</td>\n",
       "    </tr>\n",
       "    <tr>\n",
       "      <th>2320</th>\n",
       "      <td>2.343631</td>\n",
       "      <td>0.000000</td>\n",
       "      <td>3.511551</td>\n",
       "      <td>0.132223</td>\n",
       "      <td>2.927591</td>\n",
       "      <td>0.066111</td>\n",
       "    </tr>\n",
       "    <tr>\n",
       "      <th>2321</th>\n",
       "      <td>1.831668</td>\n",
       "      <td>0.000000</td>\n",
       "      <td>1.231762</td>\n",
       "      <td>0.000000</td>\n",
       "      <td>1.531715</td>\n",
       "      <td>0.000000</td>\n",
       "    </tr>\n",
       "    <tr>\n",
       "      <th>2322</th>\n",
       "      <td>2.686051</td>\n",
       "      <td>1.607548</td>\n",
       "      <td>2.984606</td>\n",
       "      <td>1.549180</td>\n",
       "      <td>2.835329</td>\n",
       "      <td>1.578364</td>\n",
       "    </tr>\n",
       "  </tbody>\n",
       "</table>\n",
       "<p>2323 rows × 6 columns</p>\n",
       "</div>"
      ],
      "text/plain": [
       "       vehicle    signal  vehicle_2  signal_2  vehicle_mean  signal_mean\n",
       "0     1.613775  0.000000   1.369412  0.000000      1.491593     0.000000\n",
       "1     1.849757  0.000000   1.672099  0.000000      1.760928     0.000000\n",
       "2     3.180087  0.000000   2.671718  0.000000      2.925903     0.000000\n",
       "3     2.097499  0.000000   2.006506  0.000000      2.052002     0.000000\n",
       "4     1.749467  0.000000   3.383277  0.000000      2.566372     0.000000\n",
       "...        ...       ...        ...       ...           ...          ...\n",
       "2318  2.691373  1.323055   3.043588  1.122721      2.867480     1.222888\n",
       "2319  2.683799  0.160543   2.400234  0.824164      2.542016     0.492354\n",
       "2320  2.343631  0.000000   3.511551  0.132223      2.927591     0.066111\n",
       "2321  1.831668  0.000000   1.231762  0.000000      1.531715     0.000000\n",
       "2322  2.686051  1.607548   2.984606  1.549180      2.835329     1.578364\n",
       "\n",
       "[2323 rows x 6 columns]"
      ]
     },
     "execution_count": 68,
     "metadata": {},
     "output_type": "execute_result"
    }
   ],
   "source": [
    "val_y_ensemble"
   ]
  },
  {
   "cell_type": "code",
   "execution_count": 70,
   "metadata": {},
   "outputs": [],
   "source": [
    "val_y_pred_ensemble = val_y_ensemble[[\"vehicle_mean\", \"signal_mean\"]].values\n",
    "val_y_true = metadata_val.iloc[:,10:12].values"
   ]
  },
  {
   "cell_type": "code",
   "execution_count": 110,
   "metadata": {},
   "outputs": [
    {
     "data": {
      "text/plain": [
       "4.7566710150940805"
      ]
     },
     "execution_count": 110,
     "metadata": {},
     "output_type": "execute_result"
    }
   ],
   "source": [
    "#val mse of second model\n",
    "mean_squared_error(val_y_true, val_y_multi_df_2[[\"vehicle_2\", \"signal_2\"]].values)"
   ]
  },
  {
   "cell_type": "code",
   "execution_count": 71,
   "metadata": {},
   "outputs": [
    {
     "data": {
      "text/plain": [
       "4.6749825848490225"
      ]
     },
     "execution_count": 71,
     "metadata": {},
     "output_type": "execute_result"
    }
   ],
   "source": [
    "#val mse of ensemble model\n",
    "mean_squared_error(val_y_true, val_y_pred_ensemble)"
   ]
  },
  {
   "cell_type": "markdown",
   "metadata": {},
   "source": [
    "# Saving the model and predictions"
   ]
  },
  {
   "cell_type": "code",
   "execution_count": 80,
   "metadata": {},
   "outputs": [],
   "source": [
    "score_y_multi = model.predict(score_X)\n",
    "score_y_multi_2 = model_2.predict(score_X)"
   ]
  },
  {
   "cell_type": "code",
   "execution_count": 81,
   "metadata": {},
   "outputs": [],
   "source": [
    "score_y_multi_df = pd.DataFrame(score_y_multi, columns = train_metadata.columns[0:10])\n",
    "score_y_multi_df_2 = pd.DataFrame(score_y_multi_2, columns = train_metadata.columns[0:10])"
   ]
  },
  {
   "cell_type": "code",
   "execution_count": 82,
   "metadata": {},
   "outputs": [],
   "source": [
    "score_y_multi_df[\"vehicle\"] = score_y_multi_df.iloc[:,0:8].sum(axis=1)\n",
    "score_y_multi_df[\"signal\"] = score_y_multi_df.iloc[:,8:10].sum(axis=1)\n",
    "score_y_multi_df_2[\"vehicle_2\"] = score_y_multi_df_2.iloc[:,0:8].sum(axis=1)\n",
    "score_y_multi_df_2[\"signal_2\"] = score_y_multi_df_2.iloc[:,8:10].sum(axis=1)"
   ]
  },
  {
   "cell_type": "code",
   "execution_count": 83,
   "metadata": {},
   "outputs": [],
   "source": [
    "score_y_ensemble = pd.concat([score_y_multi_df[[\"vehicle\", \"signal\"]], score_y_multi_df_2[[\"vehicle_2\", \"signal_2\"]]], axis=1)"
   ]
  },
  {
   "cell_type": "code",
   "execution_count": 84,
   "metadata": {},
   "outputs": [],
   "source": [
    "score_y_ensemble[\"vehicle_mean\"] = score_y_ensemble[['vehicle','vehicle_2']].mean(axis=1)\n",
    "score_y_ensemble[\"signal_mean\"] = score_y_ensemble[['signal','signal_2']].mean(axis=1)"
   ]
  },
  {
   "cell_type": "code",
   "execution_count": 99,
   "metadata": {},
   "outputs": [
    {
     "data": {
      "text/html": [
       "<div>\n",
       "<style scoped>\n",
       "    .dataframe tbody tr th:only-of-type {\n",
       "        vertical-align: middle;\n",
       "    }\n",
       "\n",
       "    .dataframe tbody tr th {\n",
       "        vertical-align: top;\n",
       "    }\n",
       "\n",
       "    .dataframe thead th {\n",
       "        text-align: right;\n",
       "    }\n",
       "</style>\n",
       "<table border=\"1\" class=\"dataframe\">\n",
       "  <thead>\n",
       "    <tr style=\"text-align: right;\">\n",
       "      <th></th>\n",
       "      <th>vehicle</th>\n",
       "      <th>signal</th>\n",
       "      <th>vehicle_2</th>\n",
       "      <th>signal_2</th>\n",
       "      <th>vehicle_mean</th>\n",
       "      <th>signal_mean</th>\n",
       "    </tr>\n",
       "  </thead>\n",
       "  <tbody>\n",
       "    <tr>\n",
       "      <th>0</th>\n",
       "      <td>8.265997</td>\n",
       "      <td>1.080966</td>\n",
       "      <td>6.857531</td>\n",
       "      <td>1.019644</td>\n",
       "      <td>7.561764</td>\n",
       "      <td>1.050305</td>\n",
       "    </tr>\n",
       "    <tr>\n",
       "      <th>1</th>\n",
       "      <td>4.670582</td>\n",
       "      <td>0.000000</td>\n",
       "      <td>3.242413</td>\n",
       "      <td>0.000000</td>\n",
       "      <td>3.956497</td>\n",
       "      <td>0.000000</td>\n",
       "    </tr>\n",
       "    <tr>\n",
       "      <th>2</th>\n",
       "      <td>3.305215</td>\n",
       "      <td>0.217048</td>\n",
       "      <td>2.535156</td>\n",
       "      <td>0.000000</td>\n",
       "      <td>2.920186</td>\n",
       "      <td>0.108524</td>\n",
       "    </tr>\n",
       "    <tr>\n",
       "      <th>3</th>\n",
       "      <td>2.089108</td>\n",
       "      <td>0.000000</td>\n",
       "      <td>2.298086</td>\n",
       "      <td>0.000000</td>\n",
       "      <td>2.193597</td>\n",
       "      <td>0.000000</td>\n",
       "    </tr>\n",
       "    <tr>\n",
       "      <th>4</th>\n",
       "      <td>0.967342</td>\n",
       "      <td>0.000000</td>\n",
       "      <td>1.783021</td>\n",
       "      <td>0.000000</td>\n",
       "      <td>1.375181</td>\n",
       "      <td>0.000000</td>\n",
       "    </tr>\n",
       "    <tr>\n",
       "      <th>...</th>\n",
       "      <td>...</td>\n",
       "      <td>...</td>\n",
       "      <td>...</td>\n",
       "      <td>...</td>\n",
       "      <td>...</td>\n",
       "      <td>...</td>\n",
       "    </tr>\n",
       "    <tr>\n",
       "      <th>5761</th>\n",
       "      <td>3.695934</td>\n",
       "      <td>0.000000</td>\n",
       "      <td>3.098130</td>\n",
       "      <td>0.000000</td>\n",
       "      <td>3.397032</td>\n",
       "      <td>0.000000</td>\n",
       "    </tr>\n",
       "    <tr>\n",
       "      <th>5762</th>\n",
       "      <td>3.488629</td>\n",
       "      <td>0.029920</td>\n",
       "      <td>3.239378</td>\n",
       "      <td>0.466974</td>\n",
       "      <td>3.364004</td>\n",
       "      <td>0.248447</td>\n",
       "    </tr>\n",
       "    <tr>\n",
       "      <th>5763</th>\n",
       "      <td>3.718980</td>\n",
       "      <td>0.437053</td>\n",
       "      <td>3.956710</td>\n",
       "      <td>0.424767</td>\n",
       "      <td>3.837845</td>\n",
       "      <td>0.430910</td>\n",
       "    </tr>\n",
       "    <tr>\n",
       "      <th>5764</th>\n",
       "      <td>1.071743</td>\n",
       "      <td>0.000000</td>\n",
       "      <td>1.800497</td>\n",
       "      <td>0.000000</td>\n",
       "      <td>1.436120</td>\n",
       "      <td>0.000000</td>\n",
       "    </tr>\n",
       "    <tr>\n",
       "      <th>5765</th>\n",
       "      <td>1.044925</td>\n",
       "      <td>0.000000</td>\n",
       "      <td>1.022657</td>\n",
       "      <td>0.000000</td>\n",
       "      <td>1.033791</td>\n",
       "      <td>0.000000</td>\n",
       "    </tr>\n",
       "  </tbody>\n",
       "</table>\n",
       "<p>5766 rows × 6 columns</p>\n",
       "</div>"
      ],
      "text/plain": [
       "       vehicle    signal  vehicle_2  signal_2  vehicle_mean  signal_mean\n",
       "0     8.265997  1.080966   6.857531  1.019644      7.561764     1.050305\n",
       "1     4.670582  0.000000   3.242413  0.000000      3.956497     0.000000\n",
       "2     3.305215  0.217048   2.535156  0.000000      2.920186     0.108524\n",
       "3     2.089108  0.000000   2.298086  0.000000      2.193597     0.000000\n",
       "4     0.967342  0.000000   1.783021  0.000000      1.375181     0.000000\n",
       "...        ...       ...        ...       ...           ...          ...\n",
       "5761  3.695934  0.000000   3.098130  0.000000      3.397032     0.000000\n",
       "5762  3.488629  0.029920   3.239378  0.466974      3.364004     0.248447\n",
       "5763  3.718980  0.437053   3.956710  0.424767      3.837845     0.430910\n",
       "5764  1.071743  0.000000   1.800497  0.000000      1.436120     0.000000\n",
       "5765  1.044925  0.000000   1.022657  0.000000      1.033791     0.000000\n",
       "\n",
       "[5766 rows x 6 columns]"
      ]
     },
     "execution_count": 99,
     "metadata": {},
     "output_type": "execute_result"
    }
   ],
   "source": [
    "score_y_ensemble"
   ]
  },
  {
   "cell_type": "code",
   "execution_count": 100,
   "metadata": {},
   "outputs": [],
   "source": [
    "score_y_hat = pd.DataFrame({\n",
    "    'signal': score_y_ensemble[\"signal_mean\"],\n",
    "    'vehicle': score_y_ensemble[\"vehicle_mean\"]\n",
    "})"
   ]
  },
  {
   "cell_type": "code",
   "execution_count": 101,
   "metadata": {},
   "outputs": [],
   "source": [
    "# Use the following asserts to check the type and shape of the final predictions.\n",
    "assert type(score_y_hat) == pd.DataFrame\n",
    "assert score_y_hat.shape == (score_metadata.shape[0], 2)\n",
    "assert (score_y_hat.columns == ['signal', 'vehicle']).all()"
   ]
  },
  {
   "cell_type": "code",
   "execution_count": 102,
   "metadata": {},
   "outputs": [
    {
     "data": {
      "text/html": [
       "<div>\n",
       "<style scoped>\n",
       "    .dataframe tbody tr th:only-of-type {\n",
       "        vertical-align: middle;\n",
       "    }\n",
       "\n",
       "    .dataframe tbody tr th {\n",
       "        vertical-align: top;\n",
       "    }\n",
       "\n",
       "    .dataframe thead th {\n",
       "        text-align: right;\n",
       "    }\n",
       "</style>\n",
       "<table border=\"1\" class=\"dataframe\">\n",
       "  <thead>\n",
       "    <tr style=\"text-align: right;\">\n",
       "      <th></th>\n",
       "      <th>signal</th>\n",
       "      <th>vehicle</th>\n",
       "    </tr>\n",
       "  </thead>\n",
       "  <tbody>\n",
       "    <tr>\n",
       "      <th>0</th>\n",
       "      <td>1.050305</td>\n",
       "      <td>7.561764</td>\n",
       "    </tr>\n",
       "    <tr>\n",
       "      <th>1</th>\n",
       "      <td>0.000000</td>\n",
       "      <td>3.956497</td>\n",
       "    </tr>\n",
       "    <tr>\n",
       "      <th>2</th>\n",
       "      <td>0.108524</td>\n",
       "      <td>2.920186</td>\n",
       "    </tr>\n",
       "    <tr>\n",
       "      <th>3</th>\n",
       "      <td>0.000000</td>\n",
       "      <td>2.193597</td>\n",
       "    </tr>\n",
       "    <tr>\n",
       "      <th>4</th>\n",
       "      <td>0.000000</td>\n",
       "      <td>1.375181</td>\n",
       "    </tr>\n",
       "    <tr>\n",
       "      <th>...</th>\n",
       "      <td>...</td>\n",
       "      <td>...</td>\n",
       "    </tr>\n",
       "    <tr>\n",
       "      <th>5761</th>\n",
       "      <td>0.000000</td>\n",
       "      <td>3.397032</td>\n",
       "    </tr>\n",
       "    <tr>\n",
       "      <th>5762</th>\n",
       "      <td>0.248447</td>\n",
       "      <td>3.364004</td>\n",
       "    </tr>\n",
       "    <tr>\n",
       "      <th>5763</th>\n",
       "      <td>0.430910</td>\n",
       "      <td>3.837845</td>\n",
       "    </tr>\n",
       "    <tr>\n",
       "      <th>5764</th>\n",
       "      <td>0.000000</td>\n",
       "      <td>1.436120</td>\n",
       "    </tr>\n",
       "    <tr>\n",
       "      <th>5765</th>\n",
       "      <td>0.000000</td>\n",
       "      <td>1.033791</td>\n",
       "    </tr>\n",
       "  </tbody>\n",
       "</table>\n",
       "<p>5766 rows × 2 columns</p>\n",
       "</div>"
      ],
      "text/plain": [
       "        signal   vehicle\n",
       "0     1.050305  7.561764\n",
       "1     0.000000  3.956497\n",
       "2     0.108524  2.920186\n",
       "3     0.000000  2.193597\n",
       "4     0.000000  1.375181\n",
       "...        ...       ...\n",
       "5761  0.000000  3.397032\n",
       "5762  0.248447  3.364004\n",
       "5763  0.430910  3.837845\n",
       "5764  0.000000  1.436120\n",
       "5765  0.000000  1.033791\n",
       "\n",
       "[5766 rows x 2 columns]"
      ]
     },
     "execution_count": 102,
     "metadata": {},
     "output_type": "execute_result"
    }
   ],
   "source": [
    "score_y_hat"
   ]
  },
  {
   "cell_type": "code",
   "execution_count": 103,
   "metadata": {},
   "outputs": [],
   "source": [
    "# Use the following code to save the final predictions.\n",
    "import os \n",
    "model_dir = 'carnet_model'\n",
    "os.makedirs(model_dir, exist_ok=True)\n",
    "score_y_hat.to_parquet(f'{model_dir}/score_y_hat.parquet')"
   ]
  },
  {
   "cell_type": "code",
   "execution_count": 104,
   "metadata": {},
   "outputs": [],
   "source": [
    "# Next, save each model's defition (JSON file) and parameters (H5 file).\n",
    "import json\n",
    "with open(f'{model_dir}/keras_model.json', 'w') as f:\n",
    "    model_json = json.dumps(json.loads(model.to_json()), indent=True)\n",
    "    f.write(model_json)\n",
    "\n",
    "# Save the learned parameters.\n",
    "model.save_weights(f\"{model_dir}/keras_parameters.h5\")"
   ]
  },
  {
   "cell_type": "code",
   "execution_count": 105,
   "metadata": {},
   "outputs": [],
   "source": [
    "import json\n",
    "with open(f'{model_dir}/keras_model_2.json', 'w') as f:\n",
    "    model_json = json.dumps(json.loads(model_2.to_json()), indent=True)\n",
    "    f.write(model_json)\n",
    "\n",
    "# Save the learned parameters.\n",
    "model_2.save_weights(f\"{model_dir}/keras_parameters_2.h5\")"
   ]
  },
  {
   "cell_type": "code",
   "execution_count": 28,
   "metadata": {},
   "outputs": [],
   "source": [
    "# You now have the following files to be submit:\n",
    "# 1. This notebook and any other Python code you used to train the final model.\n",
    "# 2. definitions of all trained models\n",
    "# 3. parameters of all trained models\n",
    "# 4. score_y_hat.parquet - the model's output on the score segment"
   ]
  },
  {
   "cell_type": "markdown",
   "metadata": {},
   "source": [
    "# Description of Solution"
   ]
  },
  {
   "cell_type": "markdown",
   "metadata": {},
   "source": [
    "## First Model\n",
    "\n",
    "Architecture:\n",
    "* Data preprocssing includes data agumentation and preprocess_input from MobileNetV3 \n",
    "* Using pre_trained_model MobileNetV3 and freezeing the parameters of the MobileNetV3 layers\n",
    "* Pooling layer, BatchNormalization layer and LeakyRelu layer\n",
    "* Three dense layer\n",
    "* One Dropout layer\n",
    "* Output dense layer with relu activation function\n",
    "* set all seed = 11"
   ]
  },
  {
   "cell_type": "markdown",
   "metadata": {},
   "source": [
    "Fine Tuning:\n",
    "After traning 10 epochs with all MobileNetV3 layers freezed, I fine tune the model by unfreezing layers staring from the 100th layers. And then training the model with extra 10 epochs."
   ]
  },
  {
   "cell_type": "markdown",
   "metadata": {},
   "source": [
    "My output is 10 classes and I sum numbers in all vehicle classes and signal classes separately to get my final output."
   ]
  },
  {
   "cell_type": "markdown",
   "metadata": {},
   "source": [
    "The validation MSE of my first model is around 4.93."
   ]
  },
  {
   "cell_type": "markdown",
   "metadata": {},
   "source": [
    "## Second Model:\n",
    "\n",
    "Architecture:\n",
    "* Same design as model 1 but change seed to 43. \n",
    "* The MobileNetV3 layers here have been updated in my first model"
   ]
  },
  {
   "cell_type": "markdown",
   "metadata": {},
   "source": [
    "The validation MSE of my second model is around 4.76."
   ]
  },
  {
   "cell_type": "markdown",
   "metadata": {},
   "source": [
    "## Ensemble:"
   ]
  },
  {
   "cell_type": "markdown",
   "metadata": {},
   "source": [
    "The aggregation method is to take the mean of outputs as the final predictions."
   ]
  },
  {
   "cell_type": "markdown",
   "metadata": {},
   "source": [
    "The validation MSE after ensemble method is around 4.67."
   ]
  },
  {
   "cell_type": "code",
   "execution_count": null,
   "metadata": {},
   "outputs": [],
   "source": []
  }
 ],
 "metadata": {
  "kernelspec": {
   "display_name": "Python 3",
   "language": "python",
   "name": "python3"
  },
  "language_info": {
   "codemirror_mode": {
    "name": "ipython",
    "version": 3
   },
   "file_extension": ".py",
   "mimetype": "text/x-python",
   "name": "python",
   "nbconvert_exporter": "python",
   "pygments_lexer": "ipython3",
   "version": "3.8.2"
  },
  "toc-autonumbering": false
 },
 "nbformat": 4,
 "nbformat_minor": 4
}
